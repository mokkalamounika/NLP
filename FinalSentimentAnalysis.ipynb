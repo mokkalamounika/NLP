{
  "nbformat": 4,
  "nbformat_minor": 0,
  "metadata": {
    "accelerator": "GPU",
    "colab": {
      "name": "FinalSentimentAnalysis.ipynb",
      "provenance": [],
      "collapsed_sections": []
    },
    "kernelspec": {
      "display_name": "Python 3",
      "name": "python3"
    },
    "language_info": {
      "name": "python"
    }
  },
  "cells": [
    {
      "cell_type": "markdown",
      "metadata": {
        "id": "IlrzN1bCEYwP"
      },
      "source": [
        "# **Sentiment Analysis for IMDB dataset**\n"
      ]
    },
    {
      "cell_type": "markdown",
      "metadata": {
        "id": "Fuu-JzXnEjWI"
      },
      "source": [
        "## **Loading dataset**"
      ]
    },
    {
      "cell_type": "code",
      "metadata": {
        "colab": {
          "base_uri": "https://localhost:8080/"
        },
        "id": "w5jTmv4HmJcT",
        "outputId": "ddb89f6b-05bc-4739-c39f-a09e38aa036b"
      },
      "source": [
        "from google.colab import drive\n",
        "drive.mount('/content/drive')"
      ],
      "execution_count": null,
      "outputs": [
        {
          "output_type": "stream",
          "text": [
            "Mounted at /content/drive\n"
          ],
          "name": "stdout"
        }
      ]
    },
    {
      "cell_type": "code",
      "metadata": {
        "colab": {
          "base_uri": "https://localhost:8080/"
        },
        "id": "j6YnMmwEmK47",
        "outputId": "9f2f45e8-e2b0-4321-bdfb-a6423fb8de9d"
      },
      "source": [
        "cd drive/MyDrive/data/Sentiment/data"
      ],
      "execution_count": null,
      "outputs": [
        {
          "output_type": "stream",
          "text": [
            "/content/drive/MyDrive/data/Sentiment/data\n"
          ],
          "name": "stdout"
        }
      ]
    },
    {
      "cell_type": "code",
      "metadata": {
        "colab": {
          "base_uri": "https://localhost:8080/"
        },
        "id": "7g891nyJ3Y7t",
        "outputId": "aab51797-4190-490d-914a-f7b9566e32e1"
      },
      "source": [
        "pip install mglearn"
      ],
      "execution_count": null,
      "outputs": [
        {
          "output_type": "stream",
          "text": [
            "Collecting mglearn\n",
            "\u001b[?25l  Downloading https://files.pythonhosted.org/packages/65/38/8aced26fce0b2ae82c3c87cd3b6105f38ca6d9d51704ecc44aa54473e6b9/mglearn-0.1.9.tar.gz (540kB)\n",
            "\r\u001b[K     |▋                               | 10kB 20.0MB/s eta 0:00:01\r\u001b[K     |█▏                              | 20kB 27.7MB/s eta 0:00:01\r\u001b[K     |█▉                              | 30kB 25.7MB/s eta 0:00:01\r\u001b[K     |██▍                             | 40kB 18.4MB/s eta 0:00:01\r\u001b[K     |███                             | 51kB 9.1MB/s eta 0:00:01\r\u001b[K     |███▋                            | 61kB 8.9MB/s eta 0:00:01\r\u001b[K     |████▎                           | 71kB 9.3MB/s eta 0:00:01\r\u001b[K     |████▉                           | 81kB 10.2MB/s eta 0:00:01\r\u001b[K     |█████▌                          | 92kB 10.7MB/s eta 0:00:01\r\u001b[K     |██████                          | 102kB 8.6MB/s eta 0:00:01\r\u001b[K     |██████▊                         | 112kB 8.6MB/s eta 0:00:01\r\u001b[K     |███████▎                        | 122kB 8.6MB/s eta 0:00:01\r\u001b[K     |███████▉                        | 133kB 8.6MB/s eta 0:00:01\r\u001b[K     |████████▌                       | 143kB 8.6MB/s eta 0:00:01\r\u001b[K     |█████████                       | 153kB 8.6MB/s eta 0:00:01\r\u001b[K     |█████████▊                      | 163kB 8.6MB/s eta 0:00:01\r\u001b[K     |██████████▎                     | 174kB 8.6MB/s eta 0:00:01\r\u001b[K     |███████████                     | 184kB 8.6MB/s eta 0:00:01\r\u001b[K     |███████████▌                    | 194kB 8.6MB/s eta 0:00:01\r\u001b[K     |████████████▏                   | 204kB 8.6MB/s eta 0:00:01\r\u001b[K     |████████████▊                   | 215kB 8.6MB/s eta 0:00:01\r\u001b[K     |█████████████▍                  | 225kB 8.6MB/s eta 0:00:01\r\u001b[K     |██████████████                  | 235kB 8.6MB/s eta 0:00:01\r\u001b[K     |██████████████▋                 | 245kB 8.6MB/s eta 0:00:01\r\u001b[K     |███████████████▏                | 256kB 8.6MB/s eta 0:00:01\r\u001b[K     |███████████████▊                | 266kB 8.6MB/s eta 0:00:01\r\u001b[K     |████████████████▍               | 276kB 8.6MB/s eta 0:00:01\r\u001b[K     |█████████████████               | 286kB 8.6MB/s eta 0:00:01\r\u001b[K     |█████████████████▋              | 296kB 8.6MB/s eta 0:00:01\r\u001b[K     |██████████████████▏             | 307kB 8.6MB/s eta 0:00:01\r\u001b[K     |██████████████████▉             | 317kB 8.6MB/s eta 0:00:01\r\u001b[K     |███████████████████▍            | 327kB 8.6MB/s eta 0:00:01\r\u001b[K     |████████████████████            | 337kB 8.6MB/s eta 0:00:01\r\u001b[K     |████████████████████▋           | 348kB 8.6MB/s eta 0:00:01\r\u001b[K     |█████████████████████▎          | 358kB 8.6MB/s eta 0:00:01\r\u001b[K     |█████████████████████▉          | 368kB 8.6MB/s eta 0:00:01\r\u001b[K     |██████████████████████▌         | 378kB 8.6MB/s eta 0:00:01\r\u001b[K     |███████████████████████         | 389kB 8.6MB/s eta 0:00:01\r\u001b[K     |███████████████████████▋        | 399kB 8.6MB/s eta 0:00:01\r\u001b[K     |████████████████████████▎       | 409kB 8.6MB/s eta 0:00:01\r\u001b[K     |████████████████████████▉       | 419kB 8.6MB/s eta 0:00:01\r\u001b[K     |█████████████████████████▌      | 430kB 8.6MB/s eta 0:00:01\r\u001b[K     |██████████████████████████      | 440kB 8.6MB/s eta 0:00:01\r\u001b[K     |██████████████████████████▊     | 450kB 8.6MB/s eta 0:00:01\r\u001b[K     |███████████████████████████▎    | 460kB 8.6MB/s eta 0:00:01\r\u001b[K     |████████████████████████████    | 471kB 8.6MB/s eta 0:00:01\r\u001b[K     |████████████████████████████▌   | 481kB 8.6MB/s eta 0:00:01\r\u001b[K     |█████████████████████████████▏  | 491kB 8.6MB/s eta 0:00:01\r\u001b[K     |█████████████████████████████▊  | 501kB 8.6MB/s eta 0:00:01\r\u001b[K     |██████████████████████████████▍ | 512kB 8.6MB/s eta 0:00:01\r\u001b[K     |███████████████████████████████ | 522kB 8.6MB/s eta 0:00:01\r\u001b[K     |███████████████████████████████▌| 532kB 8.6MB/s eta 0:00:01\r\u001b[K     |████████████████████████████████| 542kB 8.6MB/s \n",
            "\u001b[?25hRequirement already satisfied: numpy in /usr/local/lib/python3.7/dist-packages (from mglearn) (1.19.5)\n",
            "Requirement already satisfied: matplotlib in /usr/local/lib/python3.7/dist-packages (from mglearn) (3.2.2)\n",
            "Requirement already satisfied: scikit-learn in /usr/local/lib/python3.7/dist-packages (from mglearn) (0.22.2.post1)\n",
            "Requirement already satisfied: pandas in /usr/local/lib/python3.7/dist-packages (from mglearn) (1.1.5)\n",
            "Requirement already satisfied: pillow in /usr/local/lib/python3.7/dist-packages (from mglearn) (7.1.2)\n",
            "Requirement already satisfied: cycler in /usr/local/lib/python3.7/dist-packages (from mglearn) (0.10.0)\n",
            "Requirement already satisfied: imageio in /usr/local/lib/python3.7/dist-packages (from mglearn) (2.4.1)\n",
            "Requirement already satisfied: joblib in /usr/local/lib/python3.7/dist-packages (from mglearn) (1.0.1)\n",
            "Requirement already satisfied: python-dateutil>=2.1 in /usr/local/lib/python3.7/dist-packages (from matplotlib->mglearn) (2.8.1)\n",
            "Requirement already satisfied: pyparsing!=2.0.4,!=2.1.2,!=2.1.6,>=2.0.1 in /usr/local/lib/python3.7/dist-packages (from matplotlib->mglearn) (2.4.7)\n",
            "Requirement already satisfied: kiwisolver>=1.0.1 in /usr/local/lib/python3.7/dist-packages (from matplotlib->mglearn) (1.3.1)\n",
            "Requirement already satisfied: scipy>=0.17.0 in /usr/local/lib/python3.7/dist-packages (from scikit-learn->mglearn) (1.4.1)\n",
            "Requirement already satisfied: pytz>=2017.2 in /usr/local/lib/python3.7/dist-packages (from pandas->mglearn) (2018.9)\n",
            "Requirement already satisfied: six in /usr/local/lib/python3.7/dist-packages (from cycler->mglearn) (1.15.0)\n",
            "Building wheels for collected packages: mglearn\n",
            "  Building wheel for mglearn (setup.py) ... \u001b[?25l\u001b[?25hdone\n",
            "  Created wheel for mglearn: filename=mglearn-0.1.9-py2.py3-none-any.whl size=582638 sha256=1f01b3ada8127355f3c4e15bfc93e370f028c08054eb6f822b2a47a45668052a\n",
            "  Stored in directory: /root/.cache/pip/wheels/eb/a6/ea/a6a3716233fa62fc561259b5cb1e28f79e9ff3592c0adac5f0\n",
            "Successfully built mglearn\n",
            "Installing collected packages: mglearn\n",
            "Successfully installed mglearn-0.1.9\n"
          ],
          "name": "stdout"
        }
      ]
    },
    {
      "cell_type": "code",
      "metadata": {
        "id": "L0HklnNrQQsj"
      },
      "source": [
        "import pandas as pd\n",
        "import numpy as np\n",
        "import mglearn"
      ],
      "execution_count": null,
      "outputs": []
    },
    {
      "cell_type": "code",
      "metadata": {
        "colab": {
          "base_uri": "https://localhost:8080/",
          "height": 70
        },
        "id": "11zMW67Jzmdc",
        "outputId": "3c117a44-5b14-4f99-c133-59653f9f0465"
      },
      "source": [
        "'''\n",
        "from sklearn.datasets import load_files\n",
        "reviews_train = load_files(\"test/\")\n",
        "# load_files returns a bunch, containing training texts and training labels\n",
        "text_train, y_train = reviews_train.data, reviews_train.target\n",
        "print(\"type of text_train: {}\".format(type(text_train)))\n",
        "print(\"length of text_train: {}\".format(len(text_train)))\n",
        "print(\"text_train[1]:\\n{}\".format(text_train[1]))\n",
        "'''\n",
        "'''\n",
        "\n",
        "df=pd.read_csv('IMDB Dataset.csv')\n",
        "df.head()\n",
        "data=df['review']\n",
        "target=df['sentiment']\n",
        "\n",
        "datap=[]\n",
        "datan=[]\n",
        "resp=[]\n",
        "resn=[]\n",
        "for d,t in zip(data,target):\n",
        "  if t.lower()==\"positive\":\n",
        "\n",
        "    resp.append(1)\n",
        "    datap.append(d)\n",
        "  else:\n",
        "    resn.append(0)\n",
        "    datan.append(d)\n",
        "\n",
        "finald=datap[0:1000]+datan[0:1000]\n",
        "finalres=resp[0:1000]+resn[0:1000]\n",
        "dataf=pd.DataFrame({\"review\":finald,\"sentiment\":finalres})\n",
        "dataf.head()\n",
        "dataf.to_csv(\"MIN_DATASET_IMDB.csv\",index=False)\n",
        "'''"
      ],
      "execution_count": null,
      "outputs": [
        {
          "output_type": "execute_result",
          "data": {
            "application/vnd.google.colaboratory.intrinsic+json": {
              "type": "string"
            },
            "text/plain": [
              "'\\nfrom sklearn.datasets import load_files\\nreviews_train = load_files(\"test/\")\\n# load_files returns a bunch, containing training texts and training labels\\ntext_train, y_train = reviews_train.data, reviews_train.target\\nprint(\"type of text_train: {}\".format(type(text_train)))\\nprint(\"length of text_train: {}\".format(len(text_train)))\\nprint(\"text_train[1]:\\n{}\".format(text_train[1]))\\n'"
            ]
          },
          "metadata": {
            "tags": []
          },
          "execution_count": 13
        }
      ]
    },
    {
      "cell_type": "code",
      "metadata": {
        "colab": {
          "base_uri": "https://localhost:8080/",
          "height": 201
        },
        "id": "nxBJYedg_jSA",
        "outputId": "6ba330bb-45ee-48b4-8878-ad61a8e5fe20"
      },
      "source": [
        "df=pd.read_csv('MIN_DATASET_IMDB.csv')\n",
        "df.head()"
      ],
      "execution_count": null,
      "outputs": [
        {
          "output_type": "execute_result",
          "data": {
            "text/html": [
              "<div>\n",
              "<style scoped>\n",
              "    .dataframe tbody tr th:only-of-type {\n",
              "        vertical-align: middle;\n",
              "    }\n",
              "\n",
              "    .dataframe tbody tr th {\n",
              "        vertical-align: top;\n",
              "    }\n",
              "\n",
              "    .dataframe thead th {\n",
              "        text-align: right;\n",
              "    }\n",
              "</style>\n",
              "<table border=\"1\" class=\"dataframe\">\n",
              "  <thead>\n",
              "    <tr style=\"text-align: right;\">\n",
              "      <th></th>\n",
              "      <th>review</th>\n",
              "      <th>sentiment</th>\n",
              "    </tr>\n",
              "  </thead>\n",
              "  <tbody>\n",
              "    <tr>\n",
              "      <th>0</th>\n",
              "      <td>One of the other reviewers has mentioned that ...</td>\n",
              "      <td>1</td>\n",
              "    </tr>\n",
              "    <tr>\n",
              "      <th>1</th>\n",
              "      <td>A wonderful little production. &lt;br /&gt;&lt;br /&gt;The...</td>\n",
              "      <td>1</td>\n",
              "    </tr>\n",
              "    <tr>\n",
              "      <th>2</th>\n",
              "      <td>I thought this was a wonderful way to spend ti...</td>\n",
              "      <td>1</td>\n",
              "    </tr>\n",
              "    <tr>\n",
              "      <th>3</th>\n",
              "      <td>Petter Mattei's \"Love in the Time of Money\" is...</td>\n",
              "      <td>1</td>\n",
              "    </tr>\n",
              "    <tr>\n",
              "      <th>4</th>\n",
              "      <td>Probably my all-time favorite movie, a story o...</td>\n",
              "      <td>1</td>\n",
              "    </tr>\n",
              "  </tbody>\n",
              "</table>\n",
              "</div>"
            ],
            "text/plain": [
              "                                              review  sentiment\n",
              "0  One of the other reviewers has mentioned that ...          1\n",
              "1  A wonderful little production. <br /><br />The...          1\n",
              "2  I thought this was a wonderful way to spend ti...          1\n",
              "3  Petter Mattei's \"Love in the Time of Money\" is...          1\n",
              "4  Probably my all-time favorite movie, a story o...          1"
            ]
          },
          "metadata": {
            "tags": []
          },
          "execution_count": 17
        }
      ]
    },
    {
      "cell_type": "code",
      "metadata": {
        "id": "wQnS-xyk_6DN"
      },
      "source": [
        "data=df['review']\n",
        "target=df['sentiment']"
      ],
      "execution_count": null,
      "outputs": []
    },
    {
      "cell_type": "code",
      "metadata": {
        "id": "xTGZfd7UmLI1"
      },
      "source": [
        "from sklearn.model_selection import train_test_split\n",
        "text_train,text_test,y_train,y_test=train_test_split(data,target,stratify=target,shuffle=True,random_state=144,test_size=0.2)"
      ],
      "execution_count": null,
      "outputs": []
    },
    {
      "cell_type": "code",
      "metadata": {
        "colab": {
          "base_uri": "https://localhost:8080/",
          "height": 122
        },
        "id": "m1zBXkQEjD2B",
        "outputId": "5c6b3795-b8de-4cd3-ef8b-652dea5fc736"
      },
      "source": [
        "\n",
        "print(\"type of text_train: {}\".format(type(text_train)))\n",
        "print(\"length of text_train: {}\".format(len(text_train)))\n",
        "text_train.iloc[1]\n"
      ],
      "execution_count": null,
      "outputs": [
        {
          "output_type": "stream",
          "text": [
            "type of text_train: <class 'pandas.core.series.Series'>\n",
            "length of text_train: 1600\n"
          ],
          "name": "stdout"
        },
        {
          "output_type": "execute_result",
          "data": {
            "application/vnd.google.colaboratory.intrinsic+json": {
              "type": "string"
            },
            "text/plain": [
              "\"I watch this movie without big expectations, I think everyone should do. It's a great Tv-serie and of course we couldn't compare it with Gone With the wind, but it's still nice to watch. It's also weird to see a different Scarlett. Joanne Whalley don't play Scarlett with passion and fire like Vivien Leigh, but I believe that Scarlett is changed when she became older. Don't expect to much of this just watch but don't watch like: I think this would be horrible.\""
            ]
          },
          "metadata": {
            "tags": []
          },
          "execution_count": 28
        }
      ]
    },
    {
      "cell_type": "code",
      "metadata": {
        "id": "fPNtCFK6RUkf"
      },
      "source": [
        "text_train=list(text_train)\n",
        "text_test=list(text_test)\n",
        "y_train=list(y_train)\n",
        "y_test=list(y_test)"
      ],
      "execution_count": null,
      "outputs": []
    },
    {
      "cell_type": "code",
      "metadata": {
        "id": "Owkw0B5NjMWP"
      },
      "source": [
        "text_train = [doc.replace(\"<br />\", \" \") for doc in text_train]"
      ],
      "execution_count": null,
      "outputs": []
    },
    {
      "cell_type": "code",
      "metadata": {
        "colab": {
          "base_uri": "https://localhost:8080/"
        },
        "id": "r9IinHzfjMYq",
        "outputId": "bb44af13-9307-4b2c-8733-741cce5b8b6c"
      },
      "source": [
        "print(\"Samples per class (training): {}\".format(np.bincount(y_train)))\n"
      ],
      "execution_count": null,
      "outputs": [
        {
          "output_type": "stream",
          "text": [
            "Samples per class (training): [800 800]\n"
          ],
          "name": "stdout"
        }
      ]
    },
    {
      "cell_type": "code",
      "metadata": {
        "colab": {
          "base_uri": "https://localhost:8080/"
        },
        "id": "4z8sXnPAjMbJ",
        "outputId": "1caaaf06-8076-43ea-f418-263d6ecf7fb4"
      },
      "source": [
        "\n",
        "print(\"Number of documents in test data: {}\".format(len(text_test)))\n",
        "print(\"Samples per class (test): {}\".format(np.bincount(y_test)))\n",
        "text_test = [doc.replace(\"<br />\", \" \") for doc in text_test]"
      ],
      "execution_count": null,
      "outputs": [
        {
          "output_type": "stream",
          "text": [
            "Number of documents in test data: 400\n",
            "Samples per class (test): [200 200]\n"
          ],
          "name": "stdout"
        }
      ]
    },
    {
      "cell_type": "markdown",
      "metadata": {
        "id": "RrIkIzDSEtMY"
      },
      "source": [
        "## **Bag-of-Words for Movie Reviews**"
      ]
    },
    {
      "cell_type": "code",
      "metadata": {
        "colab": {
          "base_uri": "https://localhost:8080/"
        },
        "id": "rFQDjIEqjMdi",
        "outputId": "85d26d2a-23d4-407e-d025-1cbed3677e6d"
      },
      "source": [
        "from sklearn.feature_extraction.text import CountVectorizer\n",
        "vect = CountVectorizer().fit(text_train)\n",
        "X_train = vect.transform(text_train)\n",
        "print(\"X_train:\\n{}\".format(repr(X_train)))"
      ],
      "execution_count": null,
      "outputs": [
        {
          "output_type": "stream",
          "text": [
            "X_train:\n",
            "<1600x22439 sparse matrix of type '<class 'numpy.int64'>'\n",
            "\twith 214554 stored elements in Compressed Sparse Row format>\n"
          ],
          "name": "stdout"
        }
      ]
    },
    {
      "cell_type": "code",
      "metadata": {
        "colab": {
          "base_uri": "https://localhost:8080/"
        },
        "id": "GkRTXOJwjMf7",
        "outputId": "0f492752-9159-47ff-96d5-921b1eb1b5d9"
      },
      "source": [
        "feature_names = vect.get_feature_names()\n",
        "print(\"Number of features: {}\".format(len(feature_names)))\n",
        "print(\"First 20 features:\\n{}\".format(feature_names[:20]))\n",
        "print(\"Features 20010 to 20030:\\n{}\".format(feature_names[20010:20030]))\n",
        "print(\"Every 2000th feature:\\n{}\".format(feature_names[::2000]))"
      ],
      "execution_count": null,
      "outputs": [
        {
          "output_type": "stream",
          "text": [
            "Number of features: 22439\n",
            "First 20 features:\n",
            "['00', '000', '007', '00am', '01pm', '02', '06', '07', '10', '100', '1000', '100th', '101', '102', '103', '105', '11', '1100ad', '116', '117']\n",
            "Features 20010 to 20030:\n",
            "['test', 'testament', 'testators', 'tested', 'testifies', 'testimony', 'testing', 'tests', 'tethered', 'tetsuya', 'texas', 'text', 'textbook', 'textbooks', 'textile', 'texture', 'textured', 'textures', 'th', 'thackeray']\n",
            "Every 2000th feature:\n",
            "['00', 'behave', 'colored', 'domination', 'freaked', 'implementing', 'lumet', 'operation', 'rapturous', 'shown', 'terrorising', 'williamsburg']\n"
          ],
          "name": "stdout"
        }
      ]
    },
    {
      "cell_type": "code",
      "metadata": {
        "colab": {
          "base_uri": "https://localhost:8080/"
        },
        "id": "FFWEiQHdjMib",
        "outputId": "f21317d9-1e8b-4df6-b6b7-2aee39493373"
      },
      "source": [
        "from sklearn.model_selection import cross_val_score\n",
        "from sklearn.linear_model import LogisticRegression\n",
        "scores = cross_val_score(LogisticRegression(max_iter=1000), X_train, y_train, cv=5)\n",
        "print(\"Mean cross-validation accuracy: {:.2f}\".format(np.mean(scores)))\n"
      ],
      "execution_count": null,
      "outputs": [
        {
          "output_type": "stream",
          "text": [
            "Mean cross-validation accuracy: 0.83\n"
          ],
          "name": "stdout"
        }
      ]
    },
    {
      "cell_type": "code",
      "metadata": {
        "id": "t3yXo29FjMl4",
        "colab": {
          "base_uri": "https://localhost:8080/"
        },
        "outputId": "03402f14-7073-4cc0-8368-702f4e592fa8"
      },
      "source": [
        "from sklearn.model_selection import GridSearchCV\n",
        "param_grid = {'C': [0.001, 0.01, 0.1, 1, 10]}\n",
        "grid = GridSearchCV(LogisticRegression(max_iter=1000), param_grid, cv=5)\n",
        "grid.fit(X_train, y_train)\n",
        "print(\"Best cross-validation score: {:.2f}\".format(grid.best_score_))\n",
        "print(\"Best parameters: \", grid.best_params_)"
      ],
      "execution_count": null,
      "outputs": [
        {
          "output_type": "stream",
          "text": [
            "Best cross-validation score: 0.83\n",
            "Best parameters:  {'C': 0.1}\n"
          ],
          "name": "stdout"
        }
      ]
    },
    {
      "cell_type": "code",
      "metadata": {
        "id": "nhuY3fLHkIo9",
        "colab": {
          "base_uri": "https://localhost:8080/"
        },
        "outputId": "57f58246-9937-4a72-d8c3-f8eceaa5f860"
      },
      "source": [
        "X_test = vect.transform(text_test)\n",
        "print(\"{:.2f}\".format(grid.score(X_test, y_test)))"
      ],
      "execution_count": null,
      "outputs": [
        {
          "output_type": "stream",
          "text": [
            "0.80\n"
          ],
          "name": "stdout"
        }
      ]
    },
    {
      "cell_type": "code",
      "metadata": {
        "id": "zhZmWntJkIrP",
        "colab": {
          "base_uri": "https://localhost:8080/"
        },
        "outputId": "2fd6d604-c305-4fd5-eec0-28bf05005d51"
      },
      "source": [
        "vect = CountVectorizer(min_df=5).fit(text_train)\n",
        "X_train = vect.transform(text_train)\n",
        "print(\"X_train with min_df: {}\".format(repr(X_train)))"
      ],
      "execution_count": null,
      "outputs": [
        {
          "output_type": "stream",
          "text": [
            "X_train with min_df: <1600x5068 sparse matrix of type '<class 'numpy.int64'>'\n",
            "\twith 187154 stored elements in Compressed Sparse Row format>\n"
          ],
          "name": "stdout"
        }
      ]
    },
    {
      "cell_type": "code",
      "metadata": {
        "id": "D82d8StPkItm",
        "colab": {
          "base_uri": "https://localhost:8080/"
        },
        "outputId": "d8f097a3-8c1b-4431-a4b7-eb2e8ff14fba"
      },
      "source": [
        "feature_names = vect.get_feature_names()\n",
        "print(\"First 50 features:\\n{}\".format(feature_names[:50]))\n",
        "print(\"Features 20010 to 20030:\\n{}\".format(feature_names[20010:20030]))\n",
        "print(\"Every 700th feature:\\n{}\".format(feature_names[::700]))"
      ],
      "execution_count": null,
      "outputs": [
        {
          "output_type": "stream",
          "text": [
            "First 50 features:\n",
            "['000', '10', '100', '11', '12', '13', '13th', '14', '15', '16', '17', '18', '19', '1930s', '1936', '1939', '1940', '1940s', '1950s', '1955', '1960', '1964', '1968', '1970', '1972', '1980', '1980s', '1981', '1983', '1987', '1994', '1995', '1999', '19th', '1st', '20', '2000', '2002', '2003', '2005', '2006', '20th', '21st', '22', '23', '24', '25', '250', '2nd', '30']\n",
            "Features 20010 to 20030:\n",
            "[]\n",
            "Every 700th feature:\n",
            "['000', 'carrey', 'dutch', 'heck', 'meant', 'pulled', 'sports', 'water']\n"
          ],
          "name": "stdout"
        }
      ]
    },
    {
      "cell_type": "code",
      "metadata": {
        "colab": {
          "base_uri": "https://localhost:8080/"
        },
        "id": "sOOux2sykIwJ",
        "outputId": "e0efaa04-b9ff-4de4-c987-1774fb7c009a"
      },
      "source": [
        "grid = GridSearchCV(LogisticRegression(max_iter=1000), param_grid, cv=5)\n",
        "grid.fit(X_train, y_train)\n",
        "print(\"Best cross-validation score: {:.2f}\".format(grid.best_score_))"
      ],
      "execution_count": null,
      "outputs": [
        {
          "output_type": "stream",
          "text": [
            "Best cross-validation score: 0.83\n"
          ],
          "name": "stdout"
        }
      ]
    },
    {
      "cell_type": "markdown",
      "metadata": {
        "id": "rW1YylFJFOXw"
      },
      "source": [
        "## **Removing Stopwords**"
      ]
    },
    {
      "cell_type": "code",
      "metadata": {
        "colab": {
          "base_uri": "https://localhost:8080/"
        },
        "id": "OGng2tPckIym",
        "outputId": "d192fc71-939e-4694-dbb3-7cb96593cd22"
      },
      "source": [
        "from sklearn.feature_extraction.text import ENGLISH_STOP_WORDS\n",
        "print(\"Number of stop words: {}\".format(len(ENGLISH_STOP_WORDS)))\n",
        "print(\"Every 10th stopword:\\n{}\".format(list(ENGLISH_STOP_WORDS)[::10]))"
      ],
      "execution_count": null,
      "outputs": [
        {
          "output_type": "stream",
          "text": [
            "Number of stop words: 318\n",
            "Every 10th stopword:\n",
            "['meanwhile', 'perhaps', 'hence', 'without', 'get', 'four', 'via', 'whether', 'across', 'you', 'afterwards', 'its', 'too', 'even', 'found', 'part', 'noone', 'other', 'nowhere', 'twelve', 'please', 'have', 'whereby', 'system', 'for', 'all', 'whereas', 'not', 'someone', 'herself', 'him', 'mine']\n"
          ],
          "name": "stdout"
        }
      ]
    },
    {
      "cell_type": "code",
      "metadata": {
        "colab": {
          "base_uri": "https://localhost:8080/"
        },
        "id": "-Nvy0HYmkI0-",
        "outputId": "414a7a3a-f9b3-4156-c4fb-5aa9f6a15eba"
      },
      "source": [
        "# Specifying stop_words=\"english\" uses the built-in list.\n",
        "# We could also augment it and pass our own.\n",
        "vect = CountVectorizer(min_df=5, stop_words=\"english\").fit(text_train)\n",
        "X_train = vect.transform(text_train)\n",
        "print(\"X_train with stop words:\\n{}\".format(repr(X_train)))"
      ],
      "execution_count": null,
      "outputs": [
        {
          "output_type": "stream",
          "text": [
            "X_train with stop words:\n",
            "<1600x4785 sparse matrix of type '<class 'numpy.int64'>'\n",
            "\twith 110956 stored elements in Compressed Sparse Row format>\n"
          ],
          "name": "stdout"
        }
      ]
    },
    {
      "cell_type": "code",
      "metadata": {
        "id": "s9LpxKewkI4K",
        "colab": {
          "base_uri": "https://localhost:8080/"
        },
        "outputId": "7b7006a4-8efe-4972-dc8c-35a497725530"
      },
      "source": [
        "grid = GridSearchCV(LogisticRegression(max_iter=1000), param_grid, cv=5)\n",
        "grid.fit(X_train, y_train)\n",
        "print(\"Best cross-validation score: {:.2f}\".format(grid.best_score_))"
      ],
      "execution_count": null,
      "outputs": [
        {
          "output_type": "stream",
          "text": [
            "Best cross-validation score: 0.84\n"
          ],
          "name": "stdout"
        }
      ]
    },
    {
      "cell_type": "markdown",
      "metadata": {
        "id": "AE9e6a_tFiBy"
      },
      "source": [
        "## **Rescaling the Data with tf–idf**"
      ]
    },
    {
      "cell_type": "code",
      "metadata": {
        "id": "TfbdvsOjkZ1m",
        "colab": {
          "base_uri": "https://localhost:8080/"
        },
        "outputId": "1f26361e-5790-4155-b357-f0fd001291b6"
      },
      "source": [
        " \n",
        "from sklearn.feature_extraction.text import TfidfVectorizer\n",
        "from sklearn.pipeline import make_pipeline\n",
        "pipe = make_pipeline(TfidfVectorizer(min_df=5, norm=None),\n",
        " LogisticRegression(max_iter=1000))\n",
        "param_grid = {'logisticregression__C': [0.001, 0.01, 0.1, 1, 10]}\n",
        "grid = GridSearchCV(pipe, param_grid, cv=5)\n",
        "grid.fit(text_train, y_train)\n",
        "print(\"Best cross-validation score: {:.2f}\".format(grid.best_score_))"
      ],
      "execution_count": null,
      "outputs": [
        {
          "output_type": "stream",
          "text": [
            "Best cross-validation score: 0.85\n"
          ],
          "name": "stdout"
        }
      ]
    },
    {
      "cell_type": "code",
      "metadata": {
        "id": "K3d6UMFhkZ4N",
        "colab": {
          "base_uri": "https://localhost:8080/"
        },
        "outputId": "54220abe-304a-4155-b226-e05e1aa9b481"
      },
      "source": [
        "vectorizer = grid.best_estimator_.named_steps[\"tfidfvectorizer\"]\n",
        "# transform the training dataset\n",
        "X_train = vectorizer.transform(text_train)\n",
        "# find maximum value for each of the features over the dataset\n",
        "max_value = X_train.max(axis=0).toarray().ravel()\n",
        "sorted_by_tfidf = max_value.argsort()\n",
        "# get feature names\n",
        "feature_names = np.array(vectorizer.get_feature_names())\n",
        "print(\"Features with lowest tfidf:\\n{}\".format(\n",
        " feature_names[sorted_by_tfidf[:20]]))\n",
        "print(\"Features with highest tfidf: \\n{}\".format(\n",
        " feature_names[sorted_by_tfidf[-20:]]))"
      ],
      "execution_count": null,
      "outputs": [
        {
          "output_type": "stream",
          "text": [
            "Features with lowest tfidf:\n",
            "['directed' 'surprised' 'eye' 'leads' 'among' 'somewhat' 'minute'\n",
            " 'setting' 'tale' 'move' 'alive' 'imagine' 'neither' 'considered' 'leaves'\n",
            " 'familiar' 'suddenly' 'confused' 'failed' 'sitting']\n",
            "Features with highest tfidf: \n",
            "['new' 'charlie' 'cannibal' 'freddy' 'war' 'baseball' 'ha' 'julia'\n",
            " 'massacre' 'fulci' 'his' 'drugs' 'rock' 'drug' 'world' 'superman' 'the'\n",
            " 'ali' 'amanda' 'jimmy']\n"
          ],
          "name": "stdout"
        }
      ]
    },
    {
      "cell_type": "code",
      "metadata": {
        "id": "YInYnm75kZ6n",
        "colab": {
          "base_uri": "https://localhost:8080/"
        },
        "outputId": "d92fd247-72a9-4205-f8cf-3bb09e28cb65"
      },
      "source": [
        "sorted_by_idf = np.argsort(vectorizer.idf_)\n",
        "print(\"Features with lowest idf:\\n{}\".format(\n",
        " feature_names[sorted_by_idf[:100]]))"
      ],
      "execution_count": null,
      "outputs": [
        {
          "output_type": "stream",
          "text": [
            "Features with lowest idf:\n",
            "['the' 'and' 'of' 'to' 'this' 'is' 'it' 'in' 'that' 'but' 'for' 'with'\n",
            " 'on' 'was' 'as' 'movie' 'not' 'you' 'film' 'have' 'one' 'be' 'are' 'all'\n",
            " 'at' 'an' 'from' 'so' 'by' 'like' 'who' 'there' 'just' 'if' 'out' 'about'\n",
            " 'or' 'they' 'his' 'he' 'has' 'what' 'some' 'can' 'good' 'more' 'very'\n",
            " 'my' 'when' 'up' 'even' 'see' 'no' 'only' 'time' 'would' 'which' 'story'\n",
            " 'well' 'me' 'really' 'had' 'their' 'get' 'much' 'than' 'were' 'into'\n",
            " 'been' 'other' 'do' 'also' 'don' 'because' 'will' 'way' 'made' 'great'\n",
            " 'first' 'most' 'her' 'make' 'how' 'people' 'after' 'bad' 'them' 'watch'\n",
            " 'movies' 'then' 'too' 'any' 'think' 'could' 'we' 'she' 'seen' 'never'\n",
            " 'acting' 'plot']\n"
          ],
          "name": "stdout"
        }
      ]
    },
    {
      "cell_type": "code",
      "metadata": {
        "id": "_N3T8wFAkZ9E",
        "colab": {
          "base_uri": "https://localhost:8080/",
          "height": 323
        },
        "outputId": "a61e2466-5d3d-43ae-c175-7a23e7b9ddbb"
      },
      "source": [
        "mglearn.tools.visualize_coefficients(\n",
        " grid.best_estimator_.named_steps[\"logisticregression\"].coef_,\n",
        " feature_names, n_top_features=40)"
      ],
      "execution_count": null,
      "outputs": [
        {
          "output_type": "display_data",
          "data": {
            "image/png": "[encoded data removed]",
            "text/plain": [
              "<Figure size 1080x360 with 1 Axes>"
            ]
          },
          "metadata": {
            "tags": [],
            "needs_background": "light"
          }
        }
      ]
    },
    {
      "cell_type": "markdown",
      "metadata": {
        "id": "UyWfirAaFqdQ"
      },
      "source": [
        "## **Bag-of-Words with More Than One Word (n-Grams)**\n"
      ]
    },
    {
      "cell_type": "code",
      "metadata": {
        "id": "UHYP1hJIkZ_X",
        "colab": {
          "base_uri": "https://localhost:8080/"
        },
        "outputId": "7f52f1f0-c03f-4a31-941d-cfb279200182"
      },
      "source": [
        "pipe = make_pipeline(TfidfVectorizer(min_df=5), LogisticRegression(max_iter=1000))\n",
        "# running the grid search takes a long time because of the\n",
        "# relatively large grid and the inclusion of trigrams\n",
        "param_grid = {\"logisticregression__C\": [0.001, 0.01, 0.1, 1, 10, 100],\n",
        " \"tfidfvectorizer__ngram_range\": [(1, 1), (1, 2), (1, 3)]}\n",
        "grid = GridSearchCV(pipe, param_grid, cv=5)\n",
        "grid.fit(text_train, y_train)\n",
        "print(\"Best cross-validation score: {:.2f}\".format(grid.best_score_))\n",
        "print(\"Best parameters:\\n{}\".format(grid.best_params_))"
      ],
      "execution_count": null,
      "outputs": [
        {
          "output_type": "stream",
          "text": [
            "Best cross-validation score: 0.85\n",
            "Best parameters:\n",
            "{'logisticregression__C': 100, 'tfidfvectorizer__ngram_range': (1, 2)}\n"
          ],
          "name": "stdout"
        }
      ]
    },
    {
      "cell_type": "code",
      "metadata": {
        "id": "DmCMxkZskaB-",
        "colab": {
          "base_uri": "https://localhost:8080/",
          "height": 272
        },
        "outputId": "6c80221b-e50f-4e1d-e159-4efa22894391"
      },
      "source": [
        "import matplotlib.pyplot as plt\n",
        "# extract scores from grid_search\n",
        "scores = grid.cv_results_['mean_test_score'].reshape(-1, 3).T\n",
        "# visualize heat map\n",
        "heatmap = mglearn.tools.heatmap(\n",
        " scores, xlabel=\"C\", ylabel=\"ngram_range\", cmap=\"viridis\", fmt=\"%.3f\",\n",
        " xticklabels=param_grid['logisticregression__C'],\n",
        " yticklabels=param_grid['tfidfvectorizer__ngram_range'])\n",
        "plt.colorbar(heatmap)\n"
      ],
      "execution_count": null,
      "outputs": [
        {
          "output_type": "execute_result",
          "data": {
            "text/plain": [
              "<matplotlib.colorbar.Colorbar at 0x7f254135a750>"
            ]
          },
          "metadata": {
            "tags": []
          },
          "execution_count": 52
        },
        {
          "output_type": "display_data",
          "data": {
            "image/png": "[encoded data removed]",
            "text/plain": [
              "<Figure size 432x288 with 2 Axes>"
            ]
          },
          "metadata": {
            "tags": [],
            "needs_background": "light"
          }
        }
      ]
    },
    {
      "cell_type": "code",
      "metadata": {
        "id": "rGGdG0BpkaDy",
        "colab": {
          "base_uri": "https://localhost:8080/",
          "height": 323
        },
        "outputId": "c912b28f-81d5-4bd9-bdbf-537377f1986d"
      },
      "source": [
        "# extract feature names and coefficients\n",
        "vect = grid.best_estimator_.named_steps['tfidfvectorizer']\n",
        "feature_names = np.array(vect.get_feature_names())\n",
        "coef = grid.best_estimator_.named_steps['logisticregression'].coef_\n",
        "mglearn.tools.visualize_coefficients(coef, feature_names, n_top_features=40)"
      ],
      "execution_count": null,
      "outputs": [
        {
          "output_type": "display_data",
          "data": {
            "image/png": "[encoded data removed]",
            "text/plain": [
              "<Figure size 1080x360 with 1 Axes>"
            ]
          },
          "metadata": {
            "tags": [],
            "needs_background": "light"
          }
        }
      ]
    },
    {
      "cell_type": "code",
      "metadata": {
        "id": "t8heAMLEkaHO",
        "colab": {
          "base_uri": "https://localhost:8080/",
          "height": 329
        },
        "outputId": "7e4b0d63-878a-404d-bc10-e9d0dcef6b81"
      },
      "source": [
        "# find 2-gram features\n",
        "mask = np.array([len(feature.split(\" \")) for feature in feature_names]) == 2\n",
        "\n",
        "# visualize only 3-gram features\n",
        "mglearn.tools.visualize_coefficients(coef[0][mask],\n",
        " feature_names[mask], n_top_features=40)\n"
      ],
      "execution_count": null,
      "outputs": [
        {
          "output_type": "display_data",
          "data": {
            "image/png": "[encoded data removed]",
            "text/plain": [
              "<Figure size 1080x360 with 1 Axes>"
            ]
          },
          "metadata": {
            "tags": [],
            "needs_background": "light"
          }
        }
      ]
    },
    {
      "cell_type": "markdown",
      "metadata": {
        "id": "3fTRhcx7F1YE"
      },
      "source": [
        "## **Advanced Tokenization, Stemming, and Lemmatization**"
      ]
    },
    {
      "cell_type": "code",
      "metadata": {
        "id": "6KzKUjS7lL0E"
      },
      "source": [
        "import spacy\n",
        "import nltk\n",
        "# load spacy's English-language models\n",
        "en_nlp = spacy.load('en')\n",
        "# instantiate nltk's Porter stemmer\n",
        "stemmer = nltk.stem.PorterStemmer()\n",
        "# define function to compare lemmatization in spacy with stemming in nltk\n",
        "def compare_normalization(doc):\n",
        " # tokenize document in spacy\n",
        " doc_spacy = en_nlp(doc)\n",
        " # print lemmas found by spacy\n",
        " print(\"Lemmatization:\")\n",
        " print([token.lemma_ for token in doc_spacy])\n",
        " # print tokens found by Porter stemmer\n",
        " print(\"Stemming:\")\n",
        " print([stemmer.stem(token.norm_.lower()) for token in doc_spacy])"
      ],
      "execution_count": null,
      "outputs": []
    },
    {
      "cell_type": "code",
      "metadata": {
        "id": "KWeTb_AllL2n",
        "colab": {
          "base_uri": "https://localhost:8080/"
        },
        "outputId": "ce671e89-9b1e-49ef-e5b6-3d88d10ef392"
      },
      "source": [
        "compare_normalization(u\"Our meeting today was worse than yesterday, \"\n",
        " \"I'm scared of meeting the clients tomorrow.\")"
      ],
      "execution_count": null,
      "outputs": [
        {
          "output_type": "stream",
          "text": [
            "Lemmatization:\n",
            "['-PRON-', 'meeting', 'today', 'be', 'bad', 'than', 'yesterday', ',', '-PRON-', 'be', 'scared', 'of', 'meet', 'the', 'client', 'tomorrow', '.']\n",
            "Stemming:\n",
            "['our', 'meet', 'today', 'wa', 'wors', 'than', 'yesterday', ',', 'i', 'am', 'scare', 'of', 'meet', 'the', 'client', 'tomorrow', '.']\n"
          ],
          "name": "stdout"
        }
      ]
    },
    {
      "cell_type": "code",
      "metadata": {
        "id": "266BN_a7lL5B"
      },
      "source": [
        "import re\n",
        "# regexp used in CountVectorizer\n",
        "regexp = re.compile('(?u)\\\\b\\\\w\\\\w+\\\\b')\n",
        "# load spacy language model and save old tokenizer\n",
        "en_nlp = spacy.load('en')\n",
        "old_tokenizer = en_nlp.tokenizer\n",
        "# replace the tokenizer with the preceding regexp\n",
        "en_nlp.tokenizer = lambda string: old_tokenizer.tokens_from_list(\n",
        " regexp.findall(string))\n",
        "# create a custom tokenizer using the spacy document processing pipeline\n",
        "# (now using our own tokenizer)\n",
        "def custom_tokenizer(document):\n",
        " doc_spacy = en_nlp(document)\n",
        " return [token.lemma_ for token in doc_spacy]\n",
        "# define a count vectorizer with the custom tokenizer\n",
        "lemma_vect = CountVectorizer(tokenizer=custom_tokenizer, min_df=5)\n"
      ],
      "execution_count": null,
      "outputs": []
    },
    {
      "cell_type": "code",
      "metadata": {
        "id": "3TCrTjWVlL7e",
        "colab": {
          "base_uri": "https://localhost:8080/"
        },
        "outputId": "298afd74-8aa6-4669-dad0-308cf1c16099"
      },
      "source": [
        "# transform text_train using CountVectorizer with lemmatization\n",
        "X_train_lemma = lemma_vect.fit_transform(text_train)\n",
        "print(\"X_train_lemma.shape: {}\".format(X_train_lemma.shape))\n",
        "# standard CountVectorizer for reference\n",
        "vect = CountVectorizer(min_df=5).fit(text_train)\n",
        "X_train = vect.transform(text_train)\n",
        "print(\"X_train.shape: {}\".format(X_train.shape))"
      ],
      "execution_count": null,
      "outputs": [
        {
          "output_type": "stream",
          "text": [
            "X_train_lemma.shape: (1600, 4277)\n",
            "X_train.shape: (1600, 5068)\n"
          ],
          "name": "stdout"
        }
      ]
    },
    {
      "cell_type": "code",
      "metadata": {
        "id": "AhDnBr6YlL9x",
        "colab": {
          "base_uri": "https://localhost:8080/"
        },
        "outputId": "aed490d9-26b6-49dd-8110-28a752bf360c"
      },
      "source": [
        "# build a grid search using only 1% of the data as the training set\n",
        "from sklearn.model_selection import StratifiedShuffleSplit\n",
        "param_grid = {'C': [0.001, 0.01, 0.1, 1, 10]}\n",
        "cv = StratifiedShuffleSplit(test_size=0.99,\n",
        " train_size=0.01, random_state=0)\n",
        "grid = GridSearchCV(LogisticRegression(max_iter=1000), param_grid, cv=cv)\n",
        "# perform grid search with standard CountVectorizer\n",
        "grid.fit(X_train, y_train)\n",
        "print(\"Best cross-validation score \"\n",
        " \"(standard CountVectorizer): {:.3f}\".format(grid.best_score_))\n",
        "# perform grid search with lemmatization\n",
        "grid.fit(X_train_lemma, y_train)\n",
        "print(\"Best cross-validation score \"\n",
        " \"(lemmatization): {:.3f}\".format(grid.best_score_))\n"
      ],
      "execution_count": null,
      "outputs": [
        {
          "output_type": "stream",
          "text": [
            "Best cross-validation score (standard CountVectorizer): 0.540\n",
            "Best cross-validation score (lemmatization): 0.539\n"
          ],
          "name": "stdout"
        }
      ]
    },
    {
      "cell_type": "code",
      "metadata": {
        "id": "4CMDxDL0lMAG"
      },
      "source": [
        ""
      ],
      "execution_count": null,
      "outputs": []
    },
    {
      "cell_type": "code",
      "metadata": {
        "id": "o2SiPHvBlMCN"
      },
      "source": [
        ""
      ],
      "execution_count": null,
      "outputs": []
    },
    {
      "cell_type": "code",
      "metadata": {
        "id": "JPAbr1WQlMFu"
      },
      "source": [
        ""
      ],
      "execution_count": null,
      "outputs": []
    }
  ]
}